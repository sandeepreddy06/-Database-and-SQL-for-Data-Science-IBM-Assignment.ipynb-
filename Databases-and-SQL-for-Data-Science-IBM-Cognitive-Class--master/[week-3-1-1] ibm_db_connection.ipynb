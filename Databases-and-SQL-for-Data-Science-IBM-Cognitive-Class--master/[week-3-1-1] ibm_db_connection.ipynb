{
 "cells": [
  {
   "cell_type": "markdown",
   "metadata": {},
   "source": [
    "<h2 style=\"color:green\">Lab: Connect to Db2 database on Cloud using Python</b></h2>"
   ]
  },
  {
   "cell_type": "markdown",
   "metadata": {},
   "source": [
    "<h3 style=\"color:blue\">Introduction<strong></h3>"
   ]
  },
  {
   "cell_type": "markdown",
   "metadata": {},
   "source": [
    "This notebook introduces us to DB2 database on Cloud using Python.\n",
    "We will be following the below steps:\n",
    "\n",
    "    1. Import Python library to perform database operations\n",
    "    2. Learn to enter database connection credentials\n",
    "    3. Learn to create a database connection\n",
    "    4. Learn to close the database connection"
   ]
  },
  {
   "cell_type": "code",
   "execution_count": null,
   "metadata": {},
   "outputs": [],
   "source": []
  },
  {
   "cell_type": "markdown",
   "metadata": {},
   "source": [
    "<h5>[1] Import Python library to perform database operations </h5>"
   ]
  },
  {
   "cell_type": "markdown",
   "metadata": {},
   "source": [
    "<span>The <code>ibm_db</code> library provides various functions to access and manipulate database in an IBM data server database.</span>"
   ]
  },
  {
   "cell_type": "code",
   "execution_count": 1,
   "metadata": {},
   "outputs": [],
   "source": [
    "import ibm_db"
   ]
  },
  {
   "cell_type": "code",
   "execution_count": null,
   "metadata": {},
   "outputs": [],
   "source": []
  },
  {
   "cell_type": "markdown",
   "metadata": {},
   "source": [
    "<h5>[2] Get database connection credentials </h5>"
   ]
  },
  {
   "cell_type": "markdown",
   "metadata": {},
   "source": [
    "To create a successful connection between our notebook and the Db2 IBM data server, we need to pass following credentials:\n",
    "\n",
    "    1. Driver Name\n",
    "    2. Database name\n",
    "    3. Host DNS name or IP address\n",
    "    4. Host port\n",
    "    5. Connection protocol\n",
    "    6. User ID (or username)\n",
    "    7. User Password\n",
    "\n",
    "Follow this link <a href='https://d18ky98rnyall9.cloudfront.net/hkYJxA4gEem5_xLqNrIdUA_86861fb00e2011e99ff16dafffcf4ae2_Wk3-LAB-0---v5---Create-Db2-Service-Credentials.pdf?Expires=1563408000&Signature=TgDnJ-9XfGxqZqwhRkwibbhdxbdG68FWy1EhCdR0DTIuWGlGBAVn6bTjT8W-oZyQvUgVXl7gsgQXyuqRsnz9ZyPsYaurVtdPjMiJ33P2idikKK5oI-cyAzaAtaUk~6Yuz7yDs8RwcCT6XXF7RzQGYP6vTqE1JM9mOpWYdhxV-y4_&Key-Pair-Id=APKAJLTNE6QMUY6HBC5A'>Create Credentials</a> link to retrieve connection credentials for your Db2 IBM data server."
   ]
  },
  {
   "cell_type": "code",
   "execution_count": 2,
   "metadata": {},
   "outputs": [],
   "source": [
    "dsn_hostname = \"******\"\n",
    "dsn_uid = \"******\"\n",
    "dsn_pwd = \"******\"\n",
    "\n",
    "dsn_driver = \"******\"\n",
    "dsn_database = \"******\"\n",
    "dsn_port = \"******\"\n",
    "dsn_protocol = \"******\""
   ]
  },
  {
   "cell_type": "markdown",
   "metadata": {},
   "source": [
    "<h5>[3] Establish database connection </h5>"
   ]
  },
  {
   "cell_type": "code",
   "execution_count": null,
   "metadata": {},
   "outputs": [],
   "source": []
  },
  {
   "cell_type": "code",
   "execution_count": 3,
   "metadata": {},
   "outputs": [],
   "source": [
    "# Create a dsn connection string\n",
    "# it will be used while establishing connection with IBM Data Server\n",
    "dsn = (\n",
    "    \"DRIVER={0};\"\n",
    "    \"DATABASE={1};\"\n",
    "    \"HOSTNAME={2};\"\n",
    "    \"PORT={3};\"\n",
    "    \"PROTOCOL={4};\"\n",
    "    \"UID={5};\"\n",
    "    \"PWD={6};\").format(dsn_driver, dsn_database, dsn_hostname, dsn_port, dsn_protocol, dsn_uid, dsn_pwd)"
   ]
  },
  {
   "cell_type": "code",
   "execution_count": 4,
   "metadata": {},
   "outputs": [
    {
     "name": "stdout",
     "output_type": "stream",
     "text": [
      "Connected to database:  BLUDB as user:  hrt90440 on host:  dashdb-txn-sbox-yp-dal09-03.services.dal.bluemix.net\n"
     ]
    }
   ],
   "source": [
    "# Establish a database connection\n",
    "\n",
    "try:\n",
    "    db_connection = ibm_db.connect(dsn,\"\",\"\")\n",
    "    print(\"Connected to database: \", dsn_database,\"as user: \", dsn_uid, \"on host: \",dsn_hostname)\n",
    "    \n",
    "except:\n",
    "    print(\"Unable to connect: \", ibm_db.conn_errormsg())"
   ]
  },
  {
   "cell_type": "code",
   "execution_count": null,
   "metadata": {},
   "outputs": [],
   "source": [
    "# Retrieve Metadata for the Database Server\n",
    "# server_info() method of ibm_db is used to get database server metadata\n",
    "\n",
    "server_metadata = ibm_db.server_info(db_connection)\n",
    "\n",
    "print (\"DBMS_NAME: \", server_metadata.DBMS_NAME)\n",
    "print (\"DBMS_VER:  \", server_metadata.DBMS_VER)\n",
    "print (\"DB_NAME:   \", server_metadata.DB_NAME)"
   ]
  },
  {
   "cell_type": "code",
   "execution_count": null,
   "metadata": {},
   "outputs": [],
   "source": [
    "#Retrieve Metadata for the Database Client / Driver\n",
    "client_metadata = ibm_db.client_info(db_connection)\n",
    "\n",
    "print (\"DRIVER_NAME:          \", client_metadata.DRIVER_NAME) \n",
    "print (\"DRIVER_VER:           \", client_metadata.DRIVER_VER)\n",
    "print (\"DATA_SOURCE_NAME:     \", client_metadata.DATA_SOURCE_NAME)\n",
    "print (\"DRIVER_ODBC_VER:      \", client_metadata.DRIVER_ODBC_VER)\n",
    "print (\"ODBC_VER:             \", client_metadata.ODBC_VER)\n",
    "print (\"ODBC_SQL_CONFORMANCE: \", client_metadata.ODBC_SQL_CONFORMANCE)\n",
    "print (\"APPL_CODEPAGE:        \", client_metadata.APPL_CODEPAGE)\n",
    "print (\"CONN_CODEPAGE:        \", client_metadata.CONN_CODEPAGE)"
   ]
  },
  {
   "cell_type": "code",
   "execution_count": null,
   "metadata": {},
   "outputs": [],
   "source": []
  },
  {
   "cell_type": "markdown",
   "metadata": {},
   "source": [
    "<h5>[4] Close database connection </h5>"
   ]
  },
  {
   "cell_type": "markdown",
   "metadata": {},
   "source": [
    "<span> It is necessary to close any active connection between our notebook and the database server for security reasons and to avoid unused connections from taking up resources.</span>"
   ]
  },
  {
   "cell_type": "code",
   "execution_count": 5,
   "metadata": {},
   "outputs": [
    {
     "data": {
      "text/plain": [
       "True"
      ]
     },
     "execution_count": 5,
     "metadata": {},
     "output_type": "execute_result"
    }
   ],
   "source": [
    "# Close connection with the server\n",
    "\n",
    "ibm_db.close(db_connection)"
   ]
  },
  {
   "cell_type": "code",
   "execution_count": null,
   "metadata": {},
   "outputs": [],
   "source": []
  }
 ],
 "metadata": {
  "kernelspec": {
   "display_name": "Python 3",
   "language": "python",
   "name": "python3"
  },
  "language_info": {
   "codemirror_mode": {
    "name": "ipython",
    "version": 3
   },
   "file_extension": ".py",
   "mimetype": "text/x-python",
   "name": "python",
   "nbconvert_exporter": "python",
   "pygments_lexer": "ipython3",
   "version": "3.6.7"
  }
 },
 "nbformat": 4,
 "nbformat_minor": 4
}
