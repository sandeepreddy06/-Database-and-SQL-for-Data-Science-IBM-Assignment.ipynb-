{
 "cells": [
  {
   "cell_type": "markdown",
   "metadata": {},
   "source": [
    "<h2  style=\"color:green\">Lab: Access Db2 database on Cloud using Python</b></h2>"
   ]
  },
  {
   "cell_type": "markdown",
   "metadata": {},
   "source": [
    "<h3 style=\"color:blue\">Introduction<strong></h3>"
   ]
  },
  {
   "cell_type": "markdown",
   "metadata": {},
   "source": [
    "In this section we will cover following topics,\n",
    "\n",
    "    1. Create a table\n",
    "    2. Insert data into the table\n",
    "    3. QUery data from the table\n",
    "    4. Retrieve the result set and store it into a pandas dataframe\n"
   ]
  },
  {
   "cell_type": "markdown",
   "metadata": {},
   "source": [
    "<h5>[a] Import Python library to perform database operations </h5>"
   ]
  },
  {
   "cell_type": "code",
   "execution_count": null,
   "metadata": {},
   "outputs": [],
   "source": []
  },
  {
   "cell_type": "code",
   "execution_count": 1,
   "metadata": {},
   "outputs": [],
   "source": [
    "import ibm_db"
   ]
  },
  {
   "cell_type": "markdown",
   "metadata": {},
   "source": [
    "<h5>[b] Get database connection credentials </h5>"
   ]
  },
  {
   "cell_type": "markdown",
   "metadata": {},
   "source": [
    "To create a successful connection between our notebook and the Db2 IBM data server, we need to pass following credentials:\n",
    "\n",
    "    1. Driver Name\n",
    "    2. Database name\n",
    "    3. Host DNS name or IP address\n",
    "    4. Host port\n",
    "    5. Connection protocol\n",
    "    6. User ID (or username)\n",
    "    7. User Password\n",
    "\n",
    "Follow this link <a href='https://d18ky98rnyall9.cloudfront.net/hkYJxA4gEem5_xLqNrIdUA_86861fb00e2011e99ff16dafffcf4ae2_Wk3-LAB-0---v5---Create-Db2-Service-Credentials.pdf?Expires=1563408000&Signature=TgDnJ-9XfGxqZqwhRkwibbhdxbdG68FWy1EhCdR0DTIuWGlGBAVn6bTjT8W-oZyQvUgVXl7gsgQXyuqRsnz9ZyPsYaurVtdPjMiJ33P2idikKK5oI-cyAzaAtaUk~6Yuz7yDs8RwcCT6XXF7RzQGYP6vTqE1JM9mOpWYdhxV-y4_&Key-Pair-Id=APKAJLTNE6QMUY6HBC5A'>Create Credentials</a> link to retrieve connection credentials for your Db2 IBM data server."
   ]
  },
  {
   "cell_type": "code",
   "execution_count": 2,
   "metadata": {},
   "outputs": [],
   "source": [
    "dsn_hostname = \"****\"\n",
    "dsn_uid = \"****\"\n",
    "dsn_pwd = \"****\"\n",
    "\n",
    "dsn_driver = \"****\"\n",
    "dsn_database = \"****\"\n",
    "dsn_port = \"****\"\n",
    "dsn_protocol = \"****\""
   ]
  },
  {
   "cell_type": "markdown",
   "metadata": {},
   "source": [
    "<h5>[c] Establish database connection </h5>"
   ]
  },
  {
   "cell_type": "code",
   "execution_count": 3,
   "metadata": {},
   "outputs": [],
   "source": [
    "# Create a dsn connection string\n",
    "# it will be used while establishing connection with IBM Data Server\n",
    "dsn = (\n",
    "    \"DRIVER={0};\"\n",
    "    \"DATABASE={1};\"\n",
    "    \"HOSTNAME={2};\"\n",
    "    \"PORT={3};\"\n",
    "    \"PROTOCOL={4};\"\n",
    "    \"UID={5};\"\n",
    "    \"PWD={6};\").format(dsn_driver, dsn_database, dsn_hostname, dsn_port, dsn_protocol, dsn_uid, dsn_pwd)"
   ]
  },
  {
   "cell_type": "code",
   "execution_count": 4,
   "metadata": {},
   "outputs": [
    {
     "name": "stdout",
     "output_type": "stream",
     "text": [
      "Connected to database:  BLUDB as user:  hrt90440 on host:  dashdb-txn-sbox-yp-dal09-03.services.dal.bluemix.net\n"
     ]
    }
   ],
   "source": [
    "# Establish a database connection\n",
    "\n",
    "try:\n",
    "    db_connection = ibm_db.connect(dsn,\"\",\"\")\n",
    "    print(\"Connected to database: \", dsn_database,\"as user: \", dsn_uid, \"on host: \",dsn_hostname)\n",
    "    \n",
    "except:\n",
    "    print(\"Unable to connect: \", ibm_db.conn_errormsg())"
   ]
  },
  {
   "cell_type": "code",
   "execution_count": null,
   "metadata": {},
   "outputs": [],
   "source": []
  },
  {
   "cell_type": "markdown",
   "metadata": {},
   "source": [
    "<h5>[1] Create a table in the database </h5>"
   ]
  },
  {
   "cell_type": "markdown",
   "metadata": {},
   "source": [
    "In this step we will create a table in the database with following details:\n",
    "\n",
    "<img src = \"https://ibm.box.com/shared/static/ztd2cn4xkdoj5erlk4hhng39kbp63s1h.jpg\" align=\"center\">\n"
   ]
  },
  {
   "cell_type": "markdown",
   "metadata": {},
   "source": [
    "<span> We will use <code>exec_immediate()</code> method to query the database</span>"
   ]
  },
  {
   "cell_type": "code",
   "execution_count": null,
   "metadata": {},
   "outputs": [],
   "source": []
  },
  {
   "cell_type": "code",
   "execution_count": 5,
   "metadata": {},
   "outputs": [],
   "source": [
    "# Drop table 'INSTRUCTOR' if it already created\n",
    "\n",
    "dropTableQuery = \"drop table INSTRUCTOR;\"\n",
    "\n",
    "dropStmt = ibm_db.exec_immediate(db_connection, dropTableQuery)\n",
    "\n",
    "# If you got an error staring <database_name>.INSTRUCTOR is an undefined name\n",
    "# It is because INSTRUCTOR table is not created previously, \n",
    "# and we tried to delete a non-sxisting table from the database"
   ]
  },
  {
   "cell_type": "code",
   "execution_count": 6,
   "metadata": {
    "scrolled": true
   },
   "outputs": [],
   "source": [
    "# Create a table INSTRUCTOR and pass the column names and their attributes \n",
    "# as given in the above diagram\n",
    "\n",
    "createTableQuery = \"create table INSTRUCTOR\\\n",
    "                    (id INTEGER PRIMARY KEY NOT NULL,\\\n",
    "                    fname VARCHAR(50),\\\n",
    "                    lname VARCHAR(50),\\\n",
    "                    city VARCHAR(50),\\\n",
    "                    code CHAR(4));\"\n",
    "\n",
    "\n",
    "createTableStmt = ibm_db.exec_immediate(db_connection, createTableQuery)"
   ]
  },
  {
   "cell_type": "code",
   "execution_count": null,
   "metadata": {},
   "outputs": [],
   "source": []
  },
  {
   "cell_type": "markdown",
   "metadata": {},
   "source": [
    "<h5>[2] Insert data into the table </h5>"
   ]
  },
  {
   "cell_type": "markdown",
   "metadata": {},
   "source": [
    "In this step we will insert some rows of data into the table. \n",
    "\n",
    "The INSTRUCTOR table we created in the previous step contains 3 rows of data:\n",
    "\n",
    "<img src=\"https://ibm.box.com/shared/static/j5yjassxefrjknivfpekj7698dqe4d8i.jpg\" align=\"center\">\n"
   ]
  },
  {
   "cell_type": "code",
   "execution_count": 7,
   "metadata": {},
   "outputs": [],
   "source": [
    "# Insert data query\n",
    "insertQuery = \"insert into INSTRUCTOR(id, fname, lname, city, code)\\\n",
    "               VALUES\\\n",
    "               (1, 'Rav', 'Ahuja','Toronto','CA'),\\\n",
    "               (2, 'Raul', 'Chong','Markham','CA'),\\\n",
    "               (3, 'Hima', 'Vasudevan','Chicago','US');\"\n",
    "               \n",
    "# Execute the query\n",
    "insertStmt = ibm_db.exec_immediate(db_connection, insertQuery)"
   ]
  },
  {
   "cell_type": "code",
   "execution_count": null,
   "metadata": {},
   "outputs": [],
   "source": []
  },
  {
   "cell_type": "markdown",
   "metadata": {},
   "source": [
    "<h5>[3] Query data in the table</h5>"
   ]
  },
  {
   "cell_type": "markdown",
   "metadata": {},
   "source": [
    "We will retrive all the data from INSTRUCTOR table"
   ]
  },
  {
   "cell_type": "code",
   "execution_count": 8,
   "metadata": {},
   "outputs": [
    {
     "name": "stdout",
     "output_type": "stream",
     "text": [
      "ID:  1 \t\tFirst Name:  Rav\n",
      "ID:  2 \t\tFirst Name:  Raul\n",
      "ID:  3 \t\tFirst Name:  Hima\n"
     ]
    }
   ],
   "source": [
    "# Select query to retrieve all the data\n",
    "selectQuery = \"select * from INSTRUCTOR;\"\n",
    "\n",
    "# Execute the statement\n",
    "selectStmt = ibm_db.exec_immediate(db_connection, selectQuery)\n",
    "\n",
    "# Fetch results and print Id and first name of each record\n",
    "while ibm_db.fetch_both(selectStmt):\n",
    "    print(\"ID: \", ibm_db.result(selectStmt, 0), \"\\t\\tFirst Name: \",ibm_db.result(selectStmt, \"FNAME\"))"
   ]
  },
  {
   "cell_type": "code",
   "execution_count": 9,
   "metadata": {},
   "outputs": [],
   "source": [
    "# Lets update the city of Rav Ahuja from Torono to Moosetown\n",
    "\n",
    "updateQuery = \"update INSTRUCTOR\\\n",
    "               set CITY='Moosetown'\\\n",
    "               where FNAME = 'Rav';\"\n",
    "\n",
    "updateStmt = ibm_db.exec_immediate(db_connection,updateQuery)"
   ]
  },
  {
   "cell_type": "code",
   "execution_count": 10,
   "metadata": {},
   "outputs": [
    {
     "name": "stdout",
     "output_type": "stream",
     "text": [
      "ID:  1 \t\tFirst Name:  Rav \t\tCity: Moosetown\n",
      "ID:  2 \t\tFirst Name:  Raul \t\tCity: Markham\n",
      "ID:  3 \t\tFirst Name:  Hima \t\tCity: Chicago\n"
     ]
    }
   ],
   "source": [
    "# Select query to retrieve all the data\n",
    "selectQuery = \"select * from INSTRUCTOR;\"\n",
    "\n",
    "# Execute the statement\n",
    "selectStmt = ibm_db.exec_immediate(db_connection, selectQuery)\n",
    "\n",
    "# Fetch results and print Id and first name of each record\n",
    "while ibm_db.fetch_both(selectStmt):\n",
    "    print(\"ID: \", ibm_db.result(selectStmt, 0),\\\n",
    "          \"\\t\\tFirst Name: \",ibm_db.result(selectStmt, \"FNAME\"),\\\n",
    "         \"\\t\\tCity:\", ibm_db.result(selectStmt,\"CITY\"))"
   ]
  },
  {
   "cell_type": "code",
   "execution_count": null,
   "metadata": {},
   "outputs": [],
   "source": []
  },
  {
   "cell_type": "markdown",
   "metadata": {},
   "source": [
    "<h5>[4] Retrive data into Pandas</h5>"
   ]
  },
  {
   "cell_type": "code",
   "execution_count": 11,
   "metadata": {},
   "outputs": [],
   "source": [
    "import pandas as pd\n",
    "import ibm_db_dbi"
   ]
  },
  {
   "cell_type": "code",
   "execution_count": 12,
   "metadata": {},
   "outputs": [],
   "source": [
    "# Connection for pandas\n",
    "pConnection = ibm_db_dbi.Connection(db_connection)"
   ]
  },
  {
   "cell_type": "code",
   "execution_count": 13,
   "metadata": {},
   "outputs": [
    {
     "data": {
      "text/html": [
       "<div>\n",
       "<style scoped>\n",
       "    .dataframe tbody tr th:only-of-type {\n",
       "        vertical-align: middle;\n",
       "    }\n",
       "\n",
       "    .dataframe tbody tr th {\n",
       "        vertical-align: top;\n",
       "    }\n",
       "\n",
       "    .dataframe thead th {\n",
       "        text-align: right;\n",
       "    }\n",
       "</style>\n",
       "<table border=\"1\" class=\"dataframe\">\n",
       "  <thead>\n",
       "    <tr style=\"text-align: right;\">\n",
       "      <th></th>\n",
       "      <th>ID</th>\n",
       "      <th>FNAME</th>\n",
       "      <th>LNAME</th>\n",
       "      <th>CITY</th>\n",
       "      <th>CODE</th>\n",
       "    </tr>\n",
       "  </thead>\n",
       "  <tbody>\n",
       "    <tr>\n",
       "      <th>0</th>\n",
       "      <td>1</td>\n",
       "      <td>Rav</td>\n",
       "      <td>Ahuja</td>\n",
       "      <td>Moosetown</td>\n",
       "      <td>CA</td>\n",
       "    </tr>\n",
       "    <tr>\n",
       "      <th>1</th>\n",
       "      <td>2</td>\n",
       "      <td>Raul</td>\n",
       "      <td>Chong</td>\n",
       "      <td>Markham</td>\n",
       "      <td>CA</td>\n",
       "    </tr>\n",
       "    <tr>\n",
       "      <th>2</th>\n",
       "      <td>3</td>\n",
       "      <td>Hima</td>\n",
       "      <td>Vasudevan</td>\n",
       "      <td>Chicago</td>\n",
       "      <td>US</td>\n",
       "    </tr>\n",
       "  </tbody>\n",
       "</table>\n",
       "</div>"
      ],
      "text/plain": [
       "   ID FNAME      LNAME       CITY  CODE\n",
       "0   1   Rav      Ahuja  Moosetown  CA  \n",
       "1   2  Raul      Chong    Markham  CA  \n",
       "2   3  Hima  Vasudevan    Chicago  US  "
      ]
     },
     "execution_count": 13,
     "metadata": {},
     "output_type": "execute_result"
    }
   ],
   "source": [
    "# Query statement to retrieve all rows from INSTRUCTOR table\n",
    "selectQuery = \"select * from INSTRUCTOR;\"\n",
    "\n",
    "# we use inbuilt read_sql function of pandas library to retrieve data\n",
    "pDataFrame = pd.read_sql(selectQuery, pConnection)\n",
    "\n",
    "# print retrieved table details\n",
    "pDataFrame"
   ]
  },
  {
   "cell_type": "code",
   "execution_count": null,
   "metadata": {},
   "outputs": [],
   "source": []
  },
  {
   "cell_type": "code",
   "execution_count": null,
   "metadata": {},
   "outputs": [],
   "source": []
  }
 ],
 "metadata": {
  "kernelspec": {
   "display_name": "Python 3",
   "language": "python",
   "name": "python3"
  },
  "language_info": {
   "codemirror_mode": {
    "name": "ipython",
    "version": 3
   },
   "file_extension": ".py",
   "mimetype": "text/x-python",
   "name": "python",
   "nbconvert_exporter": "python",
   "pygments_lexer": "ipython3",
   "version": "3.6.7"
  }
 },
 "nbformat": 4,
 "nbformat_minor": 4
}
